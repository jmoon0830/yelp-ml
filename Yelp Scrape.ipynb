{
 "cells": [
  {
   "cell_type": "code",
   "execution_count": 2,
   "metadata": {},
   "outputs": [],
   "source": [
    "from splinter import Browser\n",
    "from bs4 import BeautifulSoup\n",
    "import pandas as pd\n",
    "import time"
   ]
  },
  {
   "cell_type": "code",
   "execution_count": 3,
   "metadata": {},
   "outputs": [],
   "source": [
    "executable_path = {'executable_path': 'chromedriver.exe'}\n",
    "browser = Browser('chrome', **executable_path, headless=False)"
   ]
  },
  {
   "cell_type": "code",
   "execution_count": 5,
   "metadata": {},
   "outputs": [],
   "source": [
    "yelpurl = 'https://www.yelp.com/biz/ravanesi-pizzeria-napoletana-glen-mills?osq=ravanessi'\n",
    "browser.visit(yelpurl)"
   ]
  },
  {
   "cell_type": "code",
   "execution_count": 6,
   "metadata": {},
   "outputs": [],
   "source": [
    "yelphtml = browser.html\n",
    "yelpsoup = BeautifulSoup(yelphtml, 'html.parser')\n",
    "\n"
   ]
  },
  {
   "cell_type": "code",
   "execution_count": 16,
   "metadata": {},
   "outputs": [
    {
     "data": {
      "text/plain": [
       "<div aria-label=\"5 star rating\" class=\"lemon--div__373c0__1mboc i-stars__373c0__1T6rz i-stars--regular-5__373c0__N5JxY border-color--default__373c0__3-ifU overflow--hidden__373c0__2y4YK\" role=\"img\"><img alt=\"\" class=\"lemon--img__373c0__3GQUb offscreen__373c0__1KofL\" height=\"560\" src=\"https://s3-media0.fl.yelpcdn.com/assets/public/stars_v2.yji-52d3d7a328db670d4402843cbddeed89.png\" width=\"132\"/></div>"
      ]
     },
     "execution_count": 16,
     "metadata": {},
     "output_type": "execute_result"
    }
   ],
   "source": [
    "rating = yelpsoup.find('div', class_='lemon--div__373c0__1mboc i-stars__373c0__1T6rz i-stars--regular-5__373c0__N5JxY border-color--default__373c0__3-ifU overflow--hidden__373c0__2y4YK')\n",
    "rating"
   ]
  },
  {
   "cell_type": "code",
   "execution_count": 30,
   "metadata": {},
   "outputs": [
    {
     "data": {
      "text/plain": [
       "\"Ravanesi serves the best pizza in the area, with the delicious dough AND cheese made in-house. We finally had our chance to try it for the first time since prior to the pandemic, they were not taking reservations or takeout, but now they are, and I am thrilled. You must call a few days or a week ahead to reserve your time slot to pick up the pizzas. When the owner found out it was my first time trying the pizzas, he sounded worried that we would be getting takeout since neopolitan style pizzas are best straight out of the oven. He reminded me of myself, because I am the same way when serving food. It's like the time my husband brought butternut squash gnocchi with sage brown butter sauce to work and did not bring the parmigiano cheese . When I arrived to pick up the pizza, he actually made me a mini white pizza to eat in the car! I couldn't believe it haha it was so kind of him. I ate the entire thing within 2 minutes-- it was excellent. I arrived home with the pizzas at the same time my husband arrived home from work, we ate them right away, and they were perfect! My husband said Ravanesi might be his favorite pizza thus far (and we have eaten A LOT of different pizzas, all over the world.) I cannot recommend Ravanesi pizza enough, and I cannot wait to eat here again. Amazing.\""
      ]
     },
     "execution_count": 30,
     "metadata": {},
     "output_type": "execute_result"
    }
   ],
   "source": [
    "comment = yelpsoup.find('li', class_='lemon--li__373c0__1r9wz margin-b3__373c0__q1DuY padding-b3__373c0__342DA border--bottom__373c0__3qNtD border-color--default__373c0__3-ifU').\\\n",
    "                   find('span', class_='lemon--span__373c0__3997G raw__373c0__3rcx7').text\n",
    "comment"
   ]
  },
  {
   "cell_type": "code",
   "execution_count": 93,
   "metadata": {},
   "outputs": [
    {
     "name": "stdout",
     "output_type": "stream",
     "text": [
      "5 star rating\n",
      "5 star rating\n",
      "5 star rating\n",
      "5 star rating\n",
      "5 star rating\n",
      "5 star rating\n",
      "5 star rating\n",
      "5 star rating\n",
      "5 star rating\n",
      "5 star rating\n",
      "5 star rating\n",
      "5 star rating\n",
      "5 star rating\n",
      "5 star rating\n",
      "5 star rating\n",
      "5 star rating\n",
      "5 star rating\n",
      "5 star rating\n",
      "5 star rating\n",
      "5 star rating\n",
      "5 star rating\n"
     ]
    }
   ],
   "source": [
    "# Print the rating\n",
    "yelphtml = browser.html\n",
    "yelpsoup = BeautifulSoup(yelphtml, 'html.parser')\n",
    "    \n",
    "allrating = yelpsoup.find_all('div', class_='lemon--div__373c0__1mboc i-stars__373c0__1T6rz i-stars--regular-5__373c0__N5JxY border-color--default__373c0__3-ifU overflow--hidden__373c0__2y4YK')\n",
    "       \n",
    "for ratings in allrating:\n",
    "    print(ratings[\"aria-label\"])\n",
    "    "
   ]
  },
  {
   "cell_type": "code",
   "execution_count": 83,
   "metadata": {},
   "outputs": [
    {
     "name": "stdout",
     "output_type": "stream",
     "text": [
      "790 Baltimore Pike\n",
      "Glen Mills, PA 19342\n",
      "0.2 miles away from Ravanesi Pizzeria Napoletana\n",
      "Your trust is our top concern, so businesses can't pay to alter or remove their reviews. Learn more.\n",
      "Start your review of Ravanesi Pizzeria Napoletana.\n",
      "Ravanesi serves the best pizza in the area, with the delicious dough AND cheese made in-house. We finally had our chance to try it for the first time since prior to the pandemic, they were not taking reservations or takeout, but now they are, and I am thrilled. You must call a few days or a week ahead to reserve your time slot to pick up the pizzas. When the owner found out it was my first time trying the pizzas, he sounded worried that we would be getting takeout since neopolitan style pizzas are best straight out of the oven. He reminded me of myself, because I am the same way when serving food. It's like the time my husband brought butternut squash gnocchi with sage brown butter sauce to work and did not bring the parmigiano cheese . When I arrived to pick up the pizza, he actually made me a mini white pizza to eat in the car! I couldn't believe it haha it was so kind of him. I ate the entire thing within 2 minutes-- it was excellent. I arrived home with the pizzas at the same time my husband arrived home from work, we ate them right away, and they were perfect! My husband said Ravanesi might be his favorite pizza thus far (and we have eaten A LOT of different pizzas, all over the world.) I cannot recommend Ravanesi pizza enough, and I cannot wait to eat here again. Amazing.\n",
      "I love this pizza!!!  My all time favorite in this area.  The owner is so personable and recognizes you on site even if it's been awhile.  The only downside is finding a table with the limited seating area.  Even if you reserve the dough, you still have to wait to be seated.  In this case COVID-19 has been a benefit as currently they're offering takeout options.  Yum!\n",
      "Always great pizza and service! Worth the wait. Ordered takeout while restaurants were closed due to COVID 2019. They had a great setup for safe pickup.\n",
      "Best purist pizza I've tasted outside of Italy. The only pies in Philly's Western Burbs that remotely compare would be from Ariano in Media, but the latter create a very different dish, with ultra-cool toppings such as filet mignon and their own style of thin, delicious crust. Ravanesi is the polar opposite. If you're a crust freak like me or my splendid spouse--if you seek the freshest, thinnest, purest crust this side of the Pond, with local, very-fresh toppings, Ravanesi is il tuo abbinamento perfetto! Close your eyes, sip your BYOB Chianti Classico Riserva, take a bite and presto--you're in NaplesI do wish they offered portobello mushroom toppings and a more understandable reservation policy.  But honestly, dear friend, I had to rack my brain to come up with these two tiny whines, and the second is actually kind of charming in an old-country way. You can't book a table, but you can and should reserve your dough, because Jack makes it fresh every afternoon--enough for a hundred pies, period. Okay? This itty-bitty deuce of gripes is all that stands between Ravanesi Pizzeria and perfection.Ravanesi is AWESOME and if you crave the real deal, call ahead to reserve your dough and prepare your palate for paradise.P.S. It's BYOB! Better still, Ravenisi pizza makes an admirable match to your stash of Sangiovese, Cab, Zin, or pretty much any other zesty red you adore--and if you're looking forward to uncorking a white, whether it be Italian Soave Classico, Alsace Gewürztraminer, New Zealand Sauvignon Blanc, you're good to go as well. Sparklers work too, but nix on delicate Pinot Noir or Pinot Grigio, unless the latter is actually Alsace Pinot Gris.\n",
      "This is the best \"purist\" pizza I've tasted outside of Italy. The only other place in the Media-Concordville area that compares is Ariano in Media, but theirs is really a different dish --with fancy toppings and its own style if delicious crust. If you seek the best crust in the area--with basic, very fresh toppings --Ravanesi is your huckleberry. I do wish they offered portobello mushrooms, but that's a minor point. This pizza is AWESOME and you owe it to yourself to try it someday.\n",
      "Hands down amazing pizza.  Terrific staff and so so good.Highly recommend.\n",
      "Hands down best pizza in the area. Overall, a great Neapolitan pizza. Does everything well. 8.3/10.\n",
      "Hands down one of the best pizzas I have ever had. Very different than your traditional pizza or chicago or new York style.\n",
      "SOOO AMAZING! I have been hearing about this place for over year now and finally went. We were there as a larger group so I got to try all the pizzas on the menu except one. The place is BYOB and you can drink while you wait which is great. This place your reservation is the dough.. so order ahead! Or you can't get in. The pizza is made perfect. The sauce, spices and everything is a blended perfection! Even the white which I have had some bland white pizza before was amazing! It had the best oil and garlic flavors. I love garlic and there was a great amount on all of them. They definitely do not skimp on any of the toppings either. One thing that you can do is on the pizzas without cheese you can add it. I definitely recommend this because then they are kinda bland. Check this place out if you get the chance it will not disappoint!\n",
      "Make sure to call ahead to reserve your dough! I had to reserve a week ahead of time.This place is amazing. The man who makes the pizza asked if it was my first time and gave me a free slice of the Bianca pizza to try. It was delicious and so kind of him. All the pizzas are made on the spot in about 90 seconds.\n",
      "Ravanesi pizza is some of (if not THE) best pizza I have ever had. My family introduced this place to me and I've been hooked ever since. One thing I will say is that make sure you get there early, or call ahead and reserve dough because they will sell out within 30 minutes of opening their doors. If that alone doesn't prove to you how good their pizza is then just keep reading. Before I get into the food itself I will say that the staff and Dave (the head chef/owner) are some of the friendliest and hardworking employees I've ever seen. When we come in Dave makes sure to say hi to us and ask us about our day/family. This has led us to learn a lot about his pizza making process. He hand makes all the mozzarella that goes on each pizza and makes the dough in the morning as well as fires up the oven to make sure the temp is just right by the time he opens the doors. All of the ingredients are made fresh and you can tell. I wouldn't recommend any one type of pizza as they are all very good and the type you choose is dependent on what you like but they do cover all types from the basic margarita, to spicy meat, to white with arugula. If you are with someone who doesn't like pizza I wouldn't recommend going here as the only thing on the menu is the pizzas!Dave is a dedicated owner who really pours his heart and soul into his restaurant and it shows! As for the wait, don't go here expecting to be sat immediately because there will almost always be somewhat of a wait. The wait will always be well worth it, especially if you bring some drinks because it is BYOB. Some last tips, if you're going on a Th-Sat there is no take-out and you will most likely want to reserve dough ahead of time as they run out very quickly.\n",
      "Same great pizza. Better then ever. They are now 5 years old. Best pizza outside of the city. Maybe better then all the pizza in the city. It's pizza. It's all he does. He does it with real passion for perfection.\n",
      "I just ate there tonight. All they do is pizza . One guy and he is a master at it. Great stuff. Crowded place . Sells out early. Super high quality. Don't free lance just get the ones on the menu. In the pizza desert of Chester County this is truly an oasis.\n",
      "If you thought you needed to board a transatlantic flight to get good Italian pizza, you were wrong. Turns out there's a little piece of Italy right off of Route 1 in Glen Mills. Ravanesi Pizzeria is unequivocally the best pizza I've had since moving to Wilmington and I'm already looking forward to my next trip.Ravanesi is a bare-bones pizza place nestled in a strip mall with minimal decor and maybe a dozen tables. They do not take reservations for the tables, but I promise you, this pizza is well worth the wait. What you DO need to do is call when they open to reserve your dough. They have a limited amount of pizza dough each night, and once it's gone, it's gone. We arrived around 7 PM (they open at 4:30 PM) and the sign was already hanging that the dough was sold out. Thankfully, I had called ahead, and even though I only reserved 1 dough, they were able to make us 2 pizzas. We did wind up waiting a good 30-45 minutes for our table.The menu includes 7 different combinations of toppings that are all standard Italian options --- house-made mozzarella cheese, fresh tomatoes, Italian sausage or sopressata, roasted onions, and roasted red peppers. We ordered the Filetti di Pomodorri (cherry tomatoes, fresh mozzarella, parmesan cheese, fresh garlic) and the Salsiccia (Italian sausage, roasted onion, fresh mozzarella). Both were absolutely phenomenal and we struggled to keep from devouring both entirely. Even the leftovers were incredible. We topped off our meal with their mini Nutella pizza, which is delightful.At the end of our meal, the owner happened to be saying goodbye to some patrons he clearly knew, but also took the time to greet us, ask us about our meal, and tell us to \"get home safely.\" We were really impressed with the friendly service and the everyone-is-family kind of vibe. Can't wait to go back and try some of the other options!\n",
      "We couldn't even wait to take a picture - so here's what the wife and I couldn't finish! This place is incredible. The owner is extremely nice and makes the cheese every morning along with the fresh dough. It's a family atmosphere that is byob. The staff is very friendly. You have to call and reserve the dough and it's first come first serve but worth the wait. It's a very friendly, wholesome experience.\n",
      "My husband and I have been to Italy several times...and these delish bites from Ravanesi bring us right back there! We had the standard margherita and the sopressata. Both were out of this world!! On top of the stellar food, the Ravanesi team could not be any more hospitable. We are extremely lucky to have this gem in our community! Can't wait for our next pie.\n",
      "Very good pizza for the Burbs.That's a pretty big statement since pizza in this area generally is bad. This place sticks out as very good.\n",
      "This is quite possibly the best pizza I've had in the Philly area. The service was excellent. Our waitress brought our two pizzas over (Margherita and Sopressata) and said the chef was worried that he overlooked mine. The attention and care put on show was dealt pleasing. I'm used to Neapolitan pizza having a little char to it and to be honest I thought my pizza was perfect....the pizzaiolo Dave came out and gave us a free 8 inch \"Bianca\" pizza bc he said he felt bad even tho I scarfed down my pizza in record time! He also explained the process of the dough being naturally leavened which I found verybinterstingLol. 10/10.\n",
      "This is quite possibly the best pizza I've had in the Philly area. The service was excellent. Our waitress brought our two pizzas over (Margherita and Sopressata) and said the chef was worried that he overlooked mine. The attention and care put on show was dealt pleasing. I'm used to Neapolitan pizza having a little char to it and to be honest I thought my pizza was perfect....the pizzaiolo Dave came out and gave us a free 8 inch \"Bianca\" pizza bc he said he felt bad even tho I scarfed down my pizza in record time! He also explained the process of the dough being naturally leavened which I found very interesting! 10/10.\n",
      "Our amazing friends brought us here for a relaxed night out for pizza. They called ahead to reserve dough but this place doesn't take seating reservations, which makes sense as it's a small casual place. As my very intelligent and savvy friends expected, Ravanesi ran out of dough. It's also a byob, with no care with what you bring. There's about 8 preset pizzas and all sounded good. We all got different ones and split them (you can also get halves of different types).  The soppressata was my top pick. It was awesome. You can ask for how well done you want the crust. I was in the mood for a slightly softer pizza and it was done perfectly. We chatted with the owner after and he thanked us very much for coming. We will definitely go back. Ps our friends are the best.\n",
      "Ravanesi was very good! I came here early (before 4:30 when they open) because I know they always have a line. Last time I tried to come early, but there was already a line and then by the time I reached the hostess, there was a 45 minute wait. Luckily, you can put your name in and add a phone number to be called. But this time I fortunately got to be seated with my sister right away. We ordered a half Bianca, half Sopressata pizza. I very much appreciate their willingness to do a half/half pizza. I thought the pizza in general would get 4/5 stars because it was a very thin crust, but not as crispy as I expected or wanted. However, the service was so good that they deserve all five stars. Also, we tried their dessert Nutella Pizza, and it is definitely worth getting. It is definitely an exceptional dessert with fresh strawberry purée which makes it extra special. They do not do to-go orders at Ravanesi, except for if you dine in and want to take some pizza to go afterwards. Overall, I highly recommend Ravanesi!\n",
      "I'm so glad we got to try the pizza at Ravanesi Pizzeria Napoletana. We were over at Kennett Square and found Ravanesi on Yelp. When we arrived, there was a sign on the door saying they're out of dough, but we walked in anyways and they had enough dough to make one last pizza for us.Ravanesi is strictly just a pizza restaurant. No salads, breadsticks, or wings. Just delicious pizza baked at 1000 degrees in an oven made in Italy. We went with half Bianca (a white pizza with garlic, oregano, and parmiggiano reggiano) and half margherita and topped it off with roasted onions. They do not have many topping options (roasted onions, arugula, roasted red peppers, sausage, and spicy sopressata), but I was impressed and really enjoyed the pizza. The ingredients were very fresh. It's BYOB!No take-out orders on Thursdays, Fridays, or Saturdays.\n",
      "Great ingredients results in a premium pizza. Worth the wait. Ordered 2 of each pizza as we couldn't choose. Still can't but we have plenty of samples left to try1\n"
     ]
    }
   ],
   "source": [
    "# print reviews/scrape\n",
    "\n",
    "    yelphtml = browser.html\n",
    "    yelpsoup = BeautifulSoup(yelphtml, 'html.parser')\n",
    "    \n",
    "    allcomment = yelpsoup.find_all('span', class_='lemon--span__373c0__3997G raw__373c0__3rcx7')\n",
    "    \n",
    "    \n",
    "    for comments in allcomment:\n",
    "        print(comments.text)\n",
    "    \n",
    "    "
   ]
  },
  {
   "cell_type": "code",
   "execution_count": null,
   "metadata": {},
   "outputs": [],
   "source": []
  }
 ],
 "metadata": {
  "kernelspec": {
   "display_name": "Python 3.8.3 64-bit ('PythonData': conda)",
   "language": "python",
   "name": "python38364bitpythondataconda0414c2187cea4eaeb1607502e7a42879"
  },
  "language_info": {
   "codemirror_mode": {
    "name": "ipython",
    "version": 3
   },
   "file_extension": ".py",
   "mimetype": "text/x-python",
   "name": "python",
   "nbconvert_exporter": "python",
   "pygments_lexer": "ipython3",
   "version": "3.8.3"
  }
 },
 "nbformat": 4,
 "nbformat_minor": 4
}

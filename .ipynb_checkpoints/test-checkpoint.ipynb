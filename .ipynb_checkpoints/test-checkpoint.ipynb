{
 "cells": [
  {
   "cell_type": "code",
   "execution_count": 1,
   "metadata": {},
   "outputs": [
    {
     "name": "stdout",
     "output_type": "stream",
     "text": [
      "Collecting yelp\n",
      "  Downloading yelp-1.0.2.tar.gz (5.9 kB)\n",
      "Collecting httplib2\n",
      "  Downloading httplib2-0.18.1-py3-none-any.whl (95 kB)\n",
      "Collecting oauth2\n",
      "  Downloading oauth2-1.9.0.post1-py2.py3-none-any.whl (25 kB)\n",
      "Requirement already satisfied: six in c:\\users\\jmoon\\anaconda3\\envs\\yelpenv\\lib\\site-packages (from yelp) (1.15.0)\n",
      "Building wheels for collected packages: yelp\n",
      "  Building wheel for yelp (setup.py): started\n",
      "  Building wheel for yelp (setup.py): finished with status 'done'\n",
      "  Created wheel for yelp: filename=yelp-1.0.2-py3-none-any.whl size=11809 sha256=9d8d79dc2481d85693c80bba0750418f9f595e40bf07813d7aef7f0054b92af6\n",
      "  Stored in directory: c:\\users\\jmoon\\appdata\\local\\pip\\cache\\wheels\\97\\8e\\02\\aadad4fb1b3b30fef7fee8b52ff1112ab99205aa2f71265c46\n",
      "Successfully built yelp\n",
      "Installing collected packages: httplib2, oauth2, yelp\n",
      "Successfully installed httplib2-0.18.1 oauth2-1.9.0.post1 yelp-1.0.2\n"
     ]
    }
   ],
   "source": [
    "# install yelp library\n",
    "# !pip install yelp"
   ]
  },
  {
   "cell_type": "code",
   "execution_count": 1,
   "metadata": {},
   "outputs": [],
   "source": [
    "client_id = \"Yba0SJQtkua4MCvdfFfUrg\"\n",
    "api_key = \"xAg1Vq9ZHUJetn_7_V_Q6Y98to85Xq8vIXPesjLSu2DY4TlGtZ15ZdMUdSgHByWrs27p4UtLxik7F24_ga3Cyub545yuL2uXfA4p9supuqkUAY0QXvSkLj_8fCmLX3Yx\""
   ]
  },
  {
   "cell_type": "code",
   "execution_count": 3,
   "metadata": {},
   "outputs": [
    {
     "ename": "AttributeError",
     "evalue": "'Client' object has no attribute 'business'",
     "output_type": "error",
     "traceback": [
      "\u001b[1;31m---------------------------------------------------------------------------\u001b[0m",
      "\u001b[1;31mAttributeError\u001b[0m                            Traceback (most recent call last)",
      "\u001b[1;32m<ipython-input-3-3049e1302510>\u001b[0m in \u001b[0;36m<module>\u001b[1;34m\u001b[0m\n\u001b[1;32m----> 1\u001b[1;33m \u001b[0mclient\u001b[0m\u001b[1;33m.\u001b[0m\u001b[0mbusiness\u001b[0m\u001b[1;33m.\u001b[0m\u001b[0mget_by_id\u001b[0m\u001b[1;33m(\u001b[0m\u001b[1;34m'yelp-san-francisco'\u001b[0m\u001b[1;33m)\u001b[0m\u001b[1;33m\u001b[0m\u001b[1;33m\u001b[0m\u001b[0m\n\u001b[0m",
      "\u001b[1;31mAttributeError\u001b[0m: 'Client' object has no attribute 'business'"
     ]
    }
   ],
   "source": [
    "url = \"https://api.yelp.com/v3/businesses/search\"\n",
    "response = requests.get()"
   ]
  },
  {
   "cell_type": "code",
   "execution_count": null,
   "metadata": {},
   "outputs": [],
   "source": []
  }
 ],
 "metadata": {
  "kernelspec": {
   "display_name": "Python (YelpEnv)",
   "language": "python",
   "name": "yelpenv"
  },
  "language_info": {
   "codemirror_mode": {
    "name": "ipython",
    "version": 3
   },
   "file_extension": ".py",
   "mimetype": "text/x-python",
   "name": "python",
   "nbconvert_exporter": "python",
   "pygments_lexer": "ipython3",
   "version": "3.6.12"
  }
 },
 "nbformat": 4,
 "nbformat_minor": 4
}

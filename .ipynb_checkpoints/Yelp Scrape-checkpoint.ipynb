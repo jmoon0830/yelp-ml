{
 "cells": [
  {
   "cell_type": "code",
   "execution_count": null,
   "metadata": {},
   "outputs": [],
   "source": [
    "from splinter import Browser\n",
    "from bs4 import BeautifulSoup\n",
    "import pandas as pd\n",
    "import time"
   ]
  },
  {
   "cell_type": "code",
   "execution_count": null,
   "metadata": {},
   "outputs": [],
   "source": [
    "executable_path = {'executable_path': 'chromedriver.exe'}\n",
    "browser = Browser('chrome', **executable_path, headless=False)"
   ]
  },
  {
   "cell_type": "code",
   "execution_count": 3,
   "metadata": {},
   "outputs": [],
   "source": [
    "yelpurl = 'https://www.yelp.com/biz/wawa-media-6?osq=wawa'\n",
    "browser.visit(yelpurl)"
   ]
  },
  {
   "cell_type": "code",
   "execution_count": 4,
   "metadata": {},
   "outputs": [],
   "source": [
    "yelphtml = browser.html\n",
    "yelpsoup = BeautifulSoup(yelphtml, 'html.parser')\n",
    "\n"
   ]
  },
  {
   "cell_type": "code",
   "execution_count": 13,
   "metadata": {},
   "outputs": [
    {
     "name": "stdout",
     "output_type": "stream",
     "text": [
      "4 star rating\n",
      "3 star rating\n",
      "1 star rating\n",
      "3 star rating\n",
      "4 star rating\n",
      "3 star rating\n",
      "1 star rating\n",
      "4 star rating\n",
      "3 star rating\n",
      "3 star rating\n",
      "4 star rating\n",
      "4 star rating\n",
      "5 star rating\n",
      "3 star rating\n",
      "5 star rating\n"
     ]
    }
   ],
   "source": [
    "# Print the rating\n",
    "yelphtml = browser.html\n",
    "yelpsoup = BeautifulSoup(yelphtml, 'html.parser')\n",
    "\n",
    "firstDiv = \"div.lemon--div__373c0__1mboc.arrange-unit__373c0__o3tjT\"\n",
    "innerSpan = \"span.lemon--span__373c0__3997G.display--inline__373c0__3JqBP\"\n",
    "innerDiv = \"div.lemon--div__373c0__1mboc.i-stars__373c0__1T6rz\"\n",
    "somediv = yelpsoup.select(f'{firstDiv} > {innerSpan} > {innerDiv}')\n",
    "\n",
    "rating_list = []\n",
    "\n",
    "# for div in somediv:\n",
    "#     print(div['aria-label'])\n",
    "#     rating_list.append(div['aria-label'])\n",
    "# rating_list\n",
    "\n",
    "for x in range(1, len(somediv)-5):\n",
    "    print(somediv[x]['aria-label'])\n",
    "\n",
    "    \n"
   ]
  },
  {
   "cell_type": "code",
   "execution_count": null,
   "metadata": {},
   "outputs": [],
   "source": [
    "# print reviews/scrape\n",
    "\n",
    "yelphtml = browser.html\n",
    "yelpsoup = BeautifulSoup(yelphtml, 'html.parser')\n",
    "    \n",
    "allcomment = yelpsoup.find_all('span', class_='lemon--span__373c0__3997G raw__373c0__3rcx7')\n",
    "    \n",
    "for x in range(4,len(allcomment)):    \n",
    "        print(\"---------------\")\n",
    "        print(allcomment[x].text)\n",
    "    \n",
    "    "
   ]
  },
  {
   "cell_type": "code",
   "execution_count": null,
   "metadata": {},
   "outputs": [],
   "source": []
  }
 ],
 "metadata": {
  "kernelspec": {
   "display_name": "Python 3.8.3 64-bit ('PythonData': conda)",
   "language": "python",
   "name": "python38364bitpythondataconda0414c2187cea4eaeb1607502e7a42879"
  },
  "language_info": {
   "codemirror_mode": {
    "name": "ipython",
    "version": 3
   },
   "file_extension": ".py",
   "mimetype": "text/x-python",
   "name": "python",
   "nbconvert_exporter": "python",
   "pygments_lexer": "ipython3",
   "version": "3.8.3"
  }
 },
 "nbformat": 4,
 "nbformat_minor": 4
}

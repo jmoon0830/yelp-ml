{
 "cells": [
  {
   "cell_type": "code",
   "execution_count": 29,
   "metadata": {},
   "outputs": [],
   "source": [
    "from splinter import Browser\n",
    "from bs4 import BeautifulSoup\n",
    "import pandas as pd\n",
    "import time"
   ]
  },
  {
   "cell_type": "code",
   "execution_count": 30,
   "metadata": {},
   "outputs": [],
   "source": [
    "executable_path = {'executable_path': 'chromedriver.exe'}\n",
    "browser = Browser('chrome', **executable_path, headless=False)"
   ]
  },
  {
   "cell_type": "code",
   "execution_count": 31,
   "metadata": {},
   "outputs": [],
   "source": [
    "yelpurl = 'https://www.yelp.com/biz/fresco-pizza-grill-newtown-square?osq=fresco'\n",
    "browser.visit(yelpurl)"
   ]
  },
  {
   "cell_type": "code",
   "execution_count": 4,
   "metadata": {},
   "outputs": [],
   "source": [
    "yelphtml = browser.html\n",
    "yelpsoup = BeautifulSoup(yelphtml, 'html.parser')\n",
    "\n"
   ]
  },
  {
   "cell_type": "code",
   "execution_count": 41,
   "metadata": {},
   "outputs": [
    {
     "name": "stdout",
     "output_type": "stream",
     "text": [
      "3 star rating\n",
      "5 star rating\n",
      "5 star rating\n",
      "5 star rating\n",
      "1 star rating\n",
      "1 star rating\n",
      "1 star rating\n",
      "1 star rating\n",
      "5 star rating\n",
      "5 star rating\n",
      "3 star rating\n",
      "2 star rating\n",
      "5 star rating\n",
      "4 star rating\n",
      "4 star rating\n",
      "1 star rating\n",
      "4 star rating\n",
      "2 star rating\n",
      "4 star rating\n"
     ]
    }
   ],
   "source": [
    "# Print the rating\n",
    "yelphtml = browser.html\n",
    "yelpsoup = BeautifulSoup(yelphtml, 'html.parser')\n",
    "\n",
    "firstDiv = \"div.lemon--div__373c0__1mboc.arrange-unit__373c0__o3tjT\"\n",
    "innerSpan = \"span.lemon--span__373c0__3997G.display--inline__373c0__3JqBP\"\n",
    "innerDiv = \"div.lemon--div__373c0__1mboc.i-stars__373c0__1T6rz\"\n",
    "somediv = yelpsoup.select(f'{firstDiv} > {innerSpan} > {innerDiv}')\n",
    "\n",
    "\n",
    "# for div in somediv:\n",
    "#     print(div['aria-label'])\n",
    "#     rating_list.append(div['aria-label'])\n",
    "# rating_list\n",
    "\n",
    "for x in range(1, 20):\n",
    "    print(somediv[x]['aria-label'])\n",
    "\n",
    "    "
   ]
  },
  {
   "cell_type": "code",
   "execution_count": 42,
   "metadata": {},
   "outputs": [
    {
     "name": "stdout",
     "output_type": "stream",
     "text": [
      "---------------\n",
      "They offered to do curbside pick up. The person placed it in the back of my car and closed the hatch door saying nothing about how it was position. When I got to my destination, I noticed that several of the orders had tipped over and two salad containers had opened up, with one of them being beyond salvaging (see picture). By the looks of it, they stacked an entire bag with almost all of the orders (save the pizza, which was obviously in its own container) that made it easy to tip over. I later found out from other people who ordered with me that the kids to their salad containers had trouble staying secured. I drove back to register my complaint with the manager. He was very courteous and friendly, and offered to make me a new salad. I declined as I was not in the mood to wait, and was frankly more perturbed about avocado being embedded in the flooring of my car (to be fair, I really did not bring that up as I was more interested in just letting them know about it more than anything else). He said the person who placed the order in my car should have mentioned about how it was placed, but the person did not do so. He also mentioned, based on my recollection, that orders tend to be stacked up to accommodate limited space in cars, but I had deliberately cleared out the entire back for it to be distributed in a more even fashion. Everyone who got their order enjoyed what they ate. I would eat there again, but I would probably pick up my order from inside instead.\n",
      "---------------\n",
      "Update!!!  Caroline has been such a great server and my husband and I have made this one of our usual date spots. We love Caroline because she is always so friendly. My favorite are the pizzas!!\n",
      "---------------\n",
      "The food was delicious. The service was great. I am extremely impressed with the quality, quantity and overall service that I always get at Fresco.  Everyone wears a mask and they always go above and beyond to make sure your dining experience is 5 stars. Thank you.\n",
      "---------------\n",
      "I picked up a take out order a short while ago. Mask-wearing by the staff is not so much being enforced. The person at the register had her mask pulled down under her nose when she wasnt near the kitchen entrance (a tight pass through) with it pulled down to her chin. One pizza chef wasn't wearing one at all, and another employee stood with his pulled off the whole time I was there as the waitstaff passed him on thier way to and from the kitchen. All the while these folks were in very close proximity to the rest of the staff. Forget the risk this puts customers in, clearly management doesn't give two shits about thier employees because they are all exposed to these 3 people's germs at minimum- who knows who else isn't wearing thier mask. If they are not enforcing mask wearing the staff isn't being protected by thier co-workers never mind the customers who aren't required to do so.  I feel terrible for the staff. I hope everyone stays healthy.\n",
      "---------------\n",
      "Tried it again. Disappointed and way over priced.One skewer chicken kabob with a teaspoon of dry rice for over $18. Pizza prices way over pricedAbsolutely the last time as there are so many other places with such better products and realistic pricing.\n",
      "---------------\n",
      "I'm sorry to say this restaurant has gone bad !We gave it two try's before we changed our review .The burger last week my husband had was dry with no flavor ... and now I just had a steak and crab delivered .. I asked for medium rare and it was over cooked with no taste !    This was my go to delivery .... no note\n",
      "---------------\n",
      "We ate here for lunch on a Monday. We ordered a half plain half pepperoni pizza. The pepperoni was nice large round thinly sliced and made for a very deliciously greasy pizza. The pizza crust itself came out perfectly cooked. The crust is on the thin side and very nice and crisp. The cheese was a mixed cheese blended with mozzarella. Delicious. There was minimal sauce. (Only rating the pizza).\n",
      "---------------\n",
      "I've been getting pizza from here for many years, and I actually used to think it was some of the best pizza around, but after trying them again recently a few times, I can't put my finger on exactly what about the pizza has changed- the crust definitely seems subpar- but it's been pretty bad. It's like, if you've got brick ovens and you're charging in the mid-$20 range for a single pie, that pizza better be damn near immaculate, but there is simply too much other better, cheaper pizza in the area to justify getting it again. It's a shame, really. The ambience and decor of the restaurant is nice and I might try their non-pizza items if the mood strikes me.\n",
      "---------------\n",
      "I love coming to Fresco with a bottle of wine with my family for dinner, or coming from DCCC campus for a wrap or panini on my break. Always been pleased with the food here. It's great for a nice but less formal atmosphere.\n",
      "---------------\n",
      "The food here is really good and the atmosphere is really nice. I've gone here many times and never had a bad experience. The service is always great and the staff is really friendly. My only complaint is that some things on the menu are slightly over priced. The menu has a nice selection though.\n",
      "---------------\n",
      "We had dinner for two Friday night at 8 pm it wasn't crowded. I loved the Montecristo sandwich I had and my wife's Rivera pizza was very good but the chicken on it was dry . The carrot cake could need some help . Nice experience\n",
      "---------------\n",
      "If you are looking for a gluten-free pizza, skip this place.  My wife has celiac and we saw Fresco had a gluten-free crust option on the menu, so we decided to give it a try with a carry-out order.  We paid THIRTY EIGHT dollars for two small, very thin two-topping pizzas.  Not worth half that much.  Very light on the sauce.  On top of that, they got the toppings WRONG!  The guy even recited the order back to me on the phone:  One with pepperoni and Kalamata olives, the other with pepperoni and green pepper.  \"Yep, that's correct.\"  Got the pizzas home, opened up the boxes and one had pepperoni and mushrooms.  We won't be going back.\n",
      "---------------\n",
      "Great Mussels, I also had the crab cake sandwich, a little more filling than I'd like but good.  The large menu makes you wonder what's good.  Typically a good restaurant will have a smaller menu to make it easier on the chef.\n",
      "---------------\n",
      "We have been frequent customers to Fresco Pizza Grill over the past five years. After our meal this evening we will no longer be returning. The reason for at least two stars was the appetizer, the grilled calamari was very good, albeit the portion was on the small side and over half the plate was a salad. If it wasn't for the appetizer, I would have not given any stars. The reason for the poor visit, probably the worst pizza we have ever eaten (the two bites we tried). We ordered a large pepperoni pizza* to share. This pizza took about 30 minutes, so we were hungry with our 18 month old child. Once it came to our table, my husband and I knew immediately there was a problem. We literally could not even see the cheese it was utterly covered in orange grease. I went to dab it with a napkin and the cheese was removed and slopped all over my napkin. I picked up a slice and the greasy, cheesy mixture fell off onto the tray. We sent it back and it was removed from our bill. The server was nice - But really no explanation except the pizza chef is new. There are so many places nearby with insanely better pizza. I strongly suggest trying another spot.*we understand pepperoni can make pizza greasy. However, this level of grease was nothing we've ever seen on pizza (we love pizza-this pizza was inedible)\n",
      "---------------\n",
      "Fresco has grown on me. I was not always a fan of Fresco. My wife and kids have always loved the food but I was less than excited when they would want to visit here. But I am now a fan. The pizza is good but the entree meals are where they excel. Try the chicken Marsala, it will not disappoint. My favorite is the Shrimp Greco. And you can't go wrong with the chicken parmIt is usually crowded, so  prepared\n",
      "---------------\n",
      "Pulled in looking for a slice or two. I was hungry and wanted a quick lunch.The sign out front said they were celebrating 10 years so I figured the food had to be good,right.HA! So much for figuring!The restaurant was nice on the inside- definitely in line with the Newtown Square area. This wasn't your typical pizzeria. You wait in line, they give you a number, then you go find a table and wait.Seemed like a long wait but eventually the two slices arrived. On the positive side - the slices were large. I have no idea how old that slice pie was sitting there but the pizza was disgusting. The cheese was dried up. The crust was bready - not crisp. A total waste of money. I hardly ate it.Overpriced. Underwhelming. Disappointing. How this place has survived 10 years serving mediocre at best pizza is a wonder to me.\n",
      "---------------\n",
      "I decided to try a new pizza place around the area. I was born and raised in South Philly, so good pizza is a like a staple where I'm from. Since I've moved to Delaware County there have been a few places that have been passable but nothing has really been a for sure go to for me. I've passed by Fresco a few times and decided to give it a try. The parking lot, outside seating, and overall ambience was welcoming. The staff seemed very friendly, and also, who seemed to be the manager or owner was very aware of the customer and on top of his game. Despite all this, Fresco really needs to reconsider their pizza recipe, or chef. I ordered a large cheese pizza. The pizza was extremely greasy. Usually I'll give that a pass, because I understand cheese can make the pizza greasy, and some of the best pizza I've had had been on the greasy side sometimes. If I could rate just the sauce on a 1-10, it'd be a 1. The sauce had a very weird, oiled down taste to it. They need to revamp the whole recipe for the sauce. In addition, the crust tasted like baked frozen pizza crust from the store and the texture was as if they cooked it in a conventional oven, rather than a pizza oven. I would love to give this location another try with my family if they change their pizza recipe though.\n",
      "---------------\n",
      "Used to really like this place a few years back, but it's gone downhill a bit - - had lunch there this week with co-workers and we opted to sit outside which is what they call 'semi-self serve' - meaning you order and pay inside and then they bring your food outside to you - and that's it. No utensils, no napkins, no friendly checking back with you to see if you want/need anything else? So guess what? No tip. for no service is warranted!  Won't go back for awhile - non-existent service and food was nothing memorable.\n",
      "---------------\n",
      "Came here for a girls dinner on a Friday night and the place was practically full. No reservations available but you can call ahead, and we were seated almost immediately. Our waitress was very friendly and on top of everything throughout the meal. We decided to order a lot of different things and split it all. The guacamole to start was a great little appetizer, then the mussels in a white sauce were delicious! Bread also comes for dipping with them. We got the gluten free margarita pizza and it was so good!! Only one person in our group was gluten free but everyone raved about it. The gluten pasta with prosciutto was so good too! We all couldn't believe how great the gluten free options were. The Caesar salad was a perfect pair to the pasta and pizza. Finally we ended with a filet topped with crabmeat and sauce which was so tender you could cut with a butter knife. Everything was so good we can't wait to go back and try more! Even better that it's a BYOB!!\n",
      "---------------\n",
      "Really bad.  Margarita Pizza is supposed to be made with Ricotta Cheese NOT Mozzarella!!No taste at all.  I had to add salt (and I don't eat salt) & loads of Oregano and it was stilltasteless.Ordered ADD Chicken. They did.  Three pieces.Really sucked.  Never again!\n"
     ]
    }
   ],
   "source": [
    "# print reviews/scrape\n",
    "\n",
    "yelphtml = browser.html\n",
    "yelpsoup = BeautifulSoup(yelphtml, 'html.parser')\n",
    "    \n",
    "allcomment = yelpsoup.find_all('p', class_='lemon--p__373c0__3Qnnj text__373c0__2Kxyz comment__373c0__3EKjH text-color--normal__373c0__3xep9 text-align--left__373c0__2XGa-')\n",
    "\n",
    "    \n",
    "for x in range(0,len(allcomment)):    \n",
    "        print(\"---------------\")\n",
    "        print(allcomment[x].text)\n",
    "    \n",
    "    "
   ]
  },
  {
   "cell_type": "code",
   "execution_count": null,
   "metadata": {},
   "outputs": [],
   "source": []
  }
 ],
 "metadata": {
  "kernelspec": {
   "display_name": "Python 3.8.3 64-bit ('PythonData': conda)",
   "language": "python",
   "name": "python38364bitpythondataconda0414c2187cea4eaeb1607502e7a42879"
  },
  "language_info": {
   "codemirror_mode": {
    "name": "ipython",
    "version": 3
   },
   "file_extension": ".py",
   "mimetype": "text/x-python",
   "name": "python",
   "nbconvert_exporter": "python",
   "pygments_lexer": "ipython3",
   "version": "3.8.3"
  }
 },
 "nbformat": 4,
 "nbformat_minor": 4
}

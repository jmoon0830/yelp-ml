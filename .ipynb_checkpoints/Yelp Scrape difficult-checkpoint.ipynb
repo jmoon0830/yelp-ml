{
 "cells": [
  {
   "cell_type": "code",
   "execution_count": 1,
   "metadata": {},
   "outputs": [],
   "source": [
    "from splinter import Browser\n",
    "from bs4 import BeautifulSoup\n",
    "import pandas as pd\n",
    "import time"
   ]
  },
  {
   "cell_type": "code",
   "execution_count": 2,
   "metadata": {},
   "outputs": [],
   "source": [
    "executable_path = {'executable_path': 'chromedriver.exe'}\n",
    "browser = Browser('chrome', **executable_path, headless=False)"
   ]
  },
  {
   "cell_type": "code",
   "execution_count": 3,
   "metadata": {},
   "outputs": [],
   "source": [
    "yelphtml = browser.html\n",
    "yelpsoup = BeautifulSoup(yelphtml, 'html.parser')"
   ]
  },
  {
   "cell_type": "code",
   "execution_count": 96,
   "metadata": {},
   "outputs": [
    {
     "ename": "IndexError",
     "evalue": "list index out of range",
     "output_type": "error",
     "traceback": [
      "\u001b[1;31m---------------------------------------------------------------------------\u001b[0m",
      "\u001b[1;31mIndexError\u001b[0m                                Traceback (most recent call last)",
      "\u001b[1;32m<ipython-input-96-7bd572ecba6c>\u001b[0m in \u001b[0;36m<module>\u001b[1;34m\u001b[0m\n\u001b[0;32m     55\u001b[0m             \u001b[1;32mif\u001b[0m \u001b[0mstart\u001b[0m \u001b[1;33m==\u001b[0m \u001b[1;36m0\u001b[0m \u001b[1;32mor\u001b[0m \u001b[1;36m20\u001b[0m\u001b[1;33m:\u001b[0m\u001b[1;33m\u001b[0m\u001b[1;33m\u001b[0m\u001b[0m\n\u001b[0;32m     56\u001b[0m                 \u001b[1;32mfor\u001b[0m \u001b[0mx\u001b[0m \u001b[1;32min\u001b[0m \u001b[0mrange\u001b[0m\u001b[1;33m(\u001b[0m\u001b[1;36m1\u001b[0m\u001b[1;33m,\u001b[0m \u001b[1;36m21\u001b[0m\u001b[1;33m)\u001b[0m\u001b[1;33m:\u001b[0m\u001b[1;33m\u001b[0m\u001b[1;33m\u001b[0m\u001b[0m\n\u001b[1;32m---> 57\u001b[1;33m                     \u001b[0myelp_stars\u001b[0m\u001b[1;33m.\u001b[0m\u001b[0mappend\u001b[0m\u001b[1;33m(\u001b[0m\u001b[0msomediv\u001b[0m\u001b[1;33m[\u001b[0m\u001b[0mx\u001b[0m\u001b[1;33m]\u001b[0m\u001b[1;33m[\u001b[0m\u001b[1;34m'aria-label'\u001b[0m\u001b[1;33m]\u001b[0m\u001b[1;33m.\u001b[0m\u001b[0mstrip\u001b[0m\u001b[1;33m(\u001b[0m\u001b[1;34m'star rating'\u001b[0m\u001b[1;33m)\u001b[0m\u001b[1;33m)\u001b[0m\u001b[1;33m\u001b[0m\u001b[1;33m\u001b[0m\u001b[0m\n\u001b[0m\u001b[0;32m     58\u001b[0m             \u001b[1;32melse\u001b[0m\u001b[1;33m:\u001b[0m\u001b[1;33m\u001b[0m\u001b[1;33m\u001b[0m\u001b[0m\n\u001b[0;32m     59\u001b[0m                 \u001b[1;32mfor\u001b[0m \u001b[0mx\u001b[0m \u001b[1;32min\u001b[0m \u001b[0mrange\u001b[0m\u001b[1;33m(\u001b[0m\u001b[1;36m1\u001b[0m\u001b[1;33m,\u001b[0m \u001b[0mleftover\u001b[0m\u001b[1;33m)\u001b[0m\u001b[1;33m:\u001b[0m\u001b[1;33m\u001b[0m\u001b[1;33m\u001b[0m\u001b[0m\n",
      "\u001b[1;31mIndexError\u001b[0m: list index out of range"
     ]
    }
   ],
   "source": [
    "# print reviews/scrape each page\n",
    "\n",
    "yelp_stars = []\n",
    "\n",
    "# starting on the first page\n",
    "start = 0\n",
    "# putting a limit of number of pages\n",
    "num_pages = 5\n",
    "\n",
    "# get total reviews on yelp webpage\n",
    "total_reviews = int(yelpsoup.find('p', class_='lemon--p__373c0__3Qnnj text__373c0__2Kxyz text-color--mid__373c0__jCeOG text-align--left__373c0__2XGa- text-size--large__373c0__3t60B').text.strip('reviews'))\n",
    "\n",
    "# trying to go figure out if it has over 100 reviews or less\n",
    "if total_reviews < 100:\n",
    "    num_pages = round(int(total_reviews)/20)\n",
    "    end = round(int(total_reviews)/20)*20\n",
    "else: \n",
    "    end = 20* num_pages\n",
    "\n",
    "# if it has less than 100 reviews, the last page should have the total number of reviews minus the rounded reviews to give the\n",
    "# left over ratings\n",
    "\n",
    "leftover = total_reviews - end\n",
    "    \n",
    "while (start <= end):\n",
    "    yelpurl = 'https://www.yelp.com/biz/chick-fil-a-glen-mills-2?osq=chickfila'\n",
    "    url = yelpurl + '&start=' + str(start)\n",
    "    browser.visit(url)\n",
    "    yelphtml = browser.html\n",
    "    yelpsoup = BeautifulSoup(yelphtml, 'html.parser')\n",
    "    firstDiv = \"div.lemon--div__373c0__1mboc.arrange-unit__373c0__o3tjT\"\n",
    "    innerSpan = \"span.lemon--span__373c0__3997G.display--inline__373c0__3JqBP\"\n",
    "    innerDiv = \"div.lemon--div__373c0__1mboc.i-stars__373c0__1T6rz\"\n",
    "    somediv = yelpsoup.select(f'{firstDiv} > {innerSpan} > {innerDiv}')\n",
    "    \n",
    "    time.sleep(10)\n",
    "\n",
    "    \n",
    "\n",
    "    if total_reviews < 100:\n",
    "#       has less than 20 reviews\n",
    "        if num_pages == 0:\n",
    "            for x in range(1, leftover):\n",
    "                yelp_stars.append(somediv[x]['aria-label'].strip('star rating'))\n",
    "#       has less than 40 reviews\n",
    "        elif num_pages == 1:\n",
    "            if start == 0:\n",
    "                for x in range(1, 21):\n",
    "                    yelp_stars.append(somediv[x]['aria-label'].strip('star rating'))\n",
    "            else:\n",
    "                for x in range(1, leftover):\n",
    "                    yelp_stars.append(somediv[x]['aria-label'])\n",
    "#       has less than 60 reviews\n",
    "        elif num_pages == 2:\n",
    "            if start == 0 or 20:\n",
    "                for x in range(1, 21):\n",
    "                    yelp_stars.append(somediv[x]['aria-label'].strip('star rating'))\n",
    "            else:\n",
    "                for x in range(1, leftover):\n",
    "                    yelp_stars.append(somediv[x]['aria-label'])\n",
    "#       has less than 80 reviews\n",
    "        elif num_pages == 3: \n",
    "            if start == 0 or 20 or 40:\n",
    "                for x in range(1, 21):\n",
    "                    yelp_stars.append(somediv[x]['aria-label'].strip('star rating'))\n",
    "            else:\n",
    "                for x in range(1, leftover):\n",
    "                    yelp_stars.append(somediv[x]['aria-label'])\n",
    "#       has less than 100 reviews\n",
    "        elif num_pages == 4:\n",
    "            if start == 0 or 20 or 40 or 60:\n",
    "                for x in range(1, 21):\n",
    "                    yelp_stars.append(somediv[x]['aria-label'].strip('star rating'))\n",
    "            else:\n",
    "                for x in range(1, leftover):\n",
    "                    yelp_stars.append(somediv[x]['aria-label'])\n",
    "\n",
    "    else:\n",
    "        for x in range(1, 21):\n",
    "            yelp_stars.append(somediv[x]['aria-label'].strip('star rating'))\n",
    "    start += 20\n",
    "print(yelp_stars)"
   ]
  },
  {
   "cell_type": "code",
   "execution_count": 93,
   "metadata": {},
   "outputs": [
    {
     "name": "stdout",
     "output_type": "stream",
     "text": [
      "2\n",
      "2\n"
     ]
    }
   ],
   "source": [
    "print(num_pages)\n",
    "print(leftover)"
   ]
  },
  {
   "cell_type": "code",
   "execution_count": 79,
   "metadata": {},
   "outputs": [
    {
     "name": "stdout",
     "output_type": "stream",
     "text": [
      "['3', '5', '2', '2', '1', '4', '2', '1']\n"
     ]
    }
   ],
   "source": [
    "# print reviews/scrape each page\n",
    "\n",
    "yelp_stars = []\n",
    "\n",
    "# starting on the first page\n",
    "start = 0\n",
    "# putting a limit of number of pages\n",
    "num_pages = 5\n",
    "\n",
    "# get total reviews on yelp webpage\n",
    "total_reviews = int(yelpsoup.find('p', class_='lemon--p__373c0__3Qnnj text__373c0__2Kxyz text-color--mid__373c0__jCeOG text-align--left__373c0__2XGa- text-size--large__373c0__3t60B').text.strip('reviews'))\n",
    "\n",
    "\n",
    "# trying to go figure out if it has over 100 reviews or less\n",
    "if total_reviews < 100:\n",
    "    num_pages = round(int(total_reviews)/20)\n",
    "    end = round(int(total_reviews)/20)*20\n",
    "else: \n",
    "    end = 20* num_pages\n",
    "\n",
    "# if it has less than 100 reviews, the last page should have the total number of reviews minus the rounded reviews to give the\n",
    "# left over ratings\n",
    "\n",
    "leftover = total_reviews - end\n",
    "\n",
    "\n",
    "# Disregard the rating\n",
    "# Print the rating\n",
    "yelphtml = browser.html\n",
    "yelpsoup = BeautifulSoup(yelphtml, 'html.parser')\n",
    "\n",
    "firstDiv = \"div.lemon--div__373c0__1mboc.arrange-unit__373c0__o3tjT\"\n",
    "innerSpan = \"span.lemon--span__373c0__3997G.display--inline__373c0__3JqBP\"\n",
    "innerDiv = \"div.lemon--div__373c0__1mboc.i-stars__373c0__1T6rz\"\n",
    "somediv = yelpsoup.select(f'{firstDiv} > {innerSpan} > {innerDiv}')\n",
    "\n",
    "group_rating = []\n",
    "# for div in somediv:\n",
    "#     print(div['aria-label'])\n",
    "#     rating_list.append(div['aria-label'])\n",
    "# rating_list\n",
    "\n",
    "for x in range(1, leftover + 1):\n",
    "#     print(somediv[x]['aria-label'])\n",
    "    group_rating.append(somediv[x]['aria-label'].strip('star rating'))\n",
    "print(group_rating)"
   ]
  },
  {
   "cell_type": "code",
   "execution_count": 81,
   "metadata": {},
   "outputs": [
    {
     "name": "stdout",
     "output_type": "stream",
     "text": [
      "0\n"
     ]
    }
   ],
   "source": [
    "print(num_pages)"
   ]
  },
  {
   "cell_type": "code",
   "execution_count": 80,
   "metadata": {},
   "outputs": [
    {
     "name": "stdout",
     "output_type": "stream",
     "text": [
      "['3', '5', '2', '2', '1', '4', '2', '1']\n"
     ]
    }
   ],
   "source": [
    "# print reviews/scrape each page\n",
    "\n",
    "yelp_stars = []\n",
    "\n",
    "# starting on the first page\n",
    "start = 0\n",
    "# putting a limit of number of pages\n",
    "num_pages = 5\n",
    "\n",
    "# get total reviews on yelp webpage\n",
    "total_reviews = int(yelpsoup.find('p', class_='lemon--p__373c0__3Qnnj text__373c0__2Kxyz text-color--mid__373c0__jCeOG text-align--left__373c0__2XGa- text-size--large__373c0__3t60B').text.strip('reviews'))\n",
    "\n",
    "\n",
    "# trying to go figure out if it has over 100 reviews or less\n",
    "if total_reviews < 100:\n",
    "    num_pages = round(int(total_reviews)/20)\n",
    "    end = round(int(total_reviews)/20)*20\n",
    "else: \n",
    "    end = 20* num_pages\n",
    "\n",
    "# if it has less than 100 reviews, the last page should have the total number of reviews minus the rounded reviews to give the\n",
    "# left over ratings\n",
    "\n",
    "leftover = total_reviews - end\n",
    "\n",
    "\n",
    "# Disregard the rating\n",
    "# Print the rating\n",
    "yelphtml = browser.html\n",
    "yelpsoup = BeautifulSoup(yelphtml, 'html.parser')\n",
    "\n",
    "firstDiv = \"div.lemon--div__373c0__1mboc.arrange-unit__373c0__o3tjT\"\n",
    "innerSpan = \"span.lemon--span__373c0__3997G.display--inline__373c0__3JqBP\"\n",
    "innerDiv = \"div.lemon--div__373c0__1mboc.i-stars__373c0__1T6rz\"\n",
    "somediv = yelpsoup.select(f'{firstDiv} > {innerSpan} > {innerDiv}')\n",
    "\n",
    "group_rating = []\n",
    "# for div in somediv:\n",
    "#     print(div['aria-label'])\n",
    "#     rating_list.append(div['aria-label'])\n",
    "# rating_list\n",
    "\n",
    "for x in range(1, leftover + 1):\n",
    "#     print(somediv[x]['aria-label'])\n",
    "    group_rating.append(somediv[x]['aria-label'].strip('star rating'))\n",
    "print(group_rating)"
   ]
  },
  {
   "cell_type": "code",
   "execution_count": 41,
   "metadata": {},
   "outputs": [
    {
     "name": "stdout",
     "output_type": "stream",
     "text": [
      "0\n"
     ]
    }
   ],
   "source": [
    "print(num_pages)"
   ]
  },
  {
   "cell_type": "code",
   "execution_count": 32,
   "metadata": {},
   "outputs": [
    {
     "name": "stdout",
     "output_type": "stream",
     "text": [
      "0\n",
      "8\n",
      "8\n"
     ]
    }
   ],
   "source": [
    "start = 0\n",
    "num_pages = 5\n",
    "\n",
    "# get total reviews\n",
    "total_reviews = int(yelpsoup.find('p', class_='lemon--p__373c0__3Qnnj text__373c0__2Kxyz text-color--mid__373c0__jCeOG text-align--left__373c0__2XGa- text-size--large__373c0__3t60B').text.strip('reviews'))\n",
    "\n",
    "total_pages = int(total_reviews)/20\n",
    "\n",
    "if total_reviews < 100:\n",
    "    end = round(int(total_reviews)/20)*20\n",
    "else: \n",
    "    end = 20* num_pages\n",
    "print(end)\n",
    "print(total_reviews)\n",
    "print(lessthantwenty)"
   ]
  },
  {
   "cell_type": "code",
   "execution_count": null,
   "metadata": {},
   "outputs": [],
   "source": []
  }
 ],
 "metadata": {
  "kernelspec": {
   "display_name": "Python 3.8.3 64-bit ('PythonData': conda)",
   "language": "python",
   "name": "python38364bitpythondataconda0414c2187cea4eaeb1607502e7a42879"
  },
  "language_info": {
   "codemirror_mode": {
    "name": "ipython",
    "version": 3
   },
   "file_extension": ".py",
   "mimetype": "text/x-python",
   "name": "python",
   "nbconvert_exporter": "python",
   "pygments_lexer": "ipython3",
   "version": "3.8.3"
  }
 },
 "nbformat": 4,
 "nbformat_minor": 4
}

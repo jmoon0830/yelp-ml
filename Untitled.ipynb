{
 "cells": [
  {
   "cell_type": "code",
   "execution_count": 1,
   "metadata": {},
   "outputs": [],
   "source": [
    "from splinter import Browser\n",
    "from bs4 import BeautifulSoup\n",
    "import pandas as pd\n",
    "import time"
   ]
  },
  {
   "cell_type": "code",
   "execution_count": 2,
   "metadata": {},
   "outputs": [],
   "source": [
    "executable_path = {'executable_path': 'chromedriver.exe'}\n",
    "browser = Browser('chrome', **executable_path, headless=False)"
   ]
  },
  {
   "cell_type": "code",
   "execution_count": 3,
   "metadata": {},
   "outputs": [],
   "source": [
    "yelphtml = browser.html\n",
    "yelpsoup = BeautifulSoup(yelphtml, 'html.parser')"
   ]
  },
  {
   "cell_type": "code",
   "execution_count": 4,
   "metadata": {},
   "outputs": [
    {
     "name": "stdout",
     "output_type": "stream",
     "text": [
      "['5', '4', '1', '5', '5', '4', '5', '1', '4', '4', '2', '5', '4', '3', '1', '3', '1', '1', '1', '1', '2', '3', '4', '1', '1', '1', '1', '4', '2', '4', '5', '4', '4', '2', '2', '5']\n"
     ]
    }
   ],
   "source": [
    "# print reviews/scrape each page\n",
    "\n",
    "yelp_stars = []\n",
    "yelp_reviews = []\n",
    "\n",
    "# starting on the first page\n",
    "start = 0\n",
    "# putting a limit of number of pages\n",
    "num_pages = 5\n",
    "\n",
    "yelpurl = 'https://www.yelp.com/biz/ruby-tuesday-pottstown?osq=ruby'\n",
    "\n",
    "\n",
    "url = yelpurl + '&start=' + str(start)\n",
    "browser.visit(url)\n",
    "yelphtml = browser.html\n",
    "yelpsoup = BeautifulSoup(yelphtml, 'html.parser')\n",
    "total_reviews = int(yelpsoup.find('p', class_='lemon--p__373c0__3Qnnj text__373c0__2Kxyz text-color--mid__373c0__jCeOG text-align--left__373c0__2XGa- text-size--large__373c0__3t60B').text.strip('reviews'))\n",
    "\n",
    "# trying to go figure out if it has over 100 reviews or less\n",
    "if total_reviews < 100:\n",
    "    num_pages = round(int(total_reviews)/20)\n",
    "    end = round(int(total_reviews)/20)*20\n",
    "else: \n",
    "    end = 20* num_pages\n",
    "\n",
    "# if it has less than 100 reviews, the last page should have the total number of reviews minus the rounded reviews to give the\n",
    "# left over ratings\n",
    "\n",
    "leftover = total_reviews - end\n",
    "    \n",
    "while (start <= end):\n",
    "    url = yelpurl + '&start=' + str(start)\n",
    "    browser.visit(url)\n",
    "    yelphtml = browser.html\n",
    "    yelpsoup = BeautifulSoup(yelphtml, 'html.parser')\n",
    "    # get total reviews on yelp webpage\n",
    "    firstDiv = \"div.lemon--div__373c0__1mboc.arrange-unit__373c0__o3tjT\"\n",
    "    innerSpan = \"span.lemon--span__373c0__3997G.display--inline__373c0__3JqBP\"\n",
    "    innerDiv = \"div.lemon--div__373c0__1mboc.i-stars__373c0__1T6rz\"\n",
    "    somediv = yelpsoup.select(f'{firstDiv} > {innerSpan} > {innerDiv}')\n",
    "    allcomment = yelpsoup.find_all('p', class_='lemon--p__373c0__3Qnnj text__373c0__2Kxyz comment__373c0__3EKjH text-color--normal__373c0__3xep9 text-align--left__373c0__2XGa-')\n",
    "    \n",
    "\n",
    "    if total_reviews < 100:\n",
    "#       has less than 20 reviews\n",
    "        if num_pages == 0:\n",
    "            for x in range(1, leftover + 1):\n",
    "                yelp_stars.append(somediv[x]['aria-label'].strip('star rating'))\n",
    "            for y in range(0,len(allcomment)):    \n",
    "                yelp_reviews.append(allcomment[y].text)\n",
    "#       has less than 40 reviews\n",
    "        elif num_pages == 1:\n",
    "            if start == 0:\n",
    "                for x in range(1, 21):\n",
    "                    yelp_stars.append(somediv[x]['aria-label'].strip('star rating'))\n",
    "                for y in range(0,len(allcomment)):    \n",
    "                    yelp_reviews.append(allcomment[y].text)\n",
    "            else:\n",
    "                for x in range(1, leftover + 1):\n",
    "                    yelp_stars.append(somediv[x]['aria-label'].strip('star rating'))\n",
    "                for y in range(0,len(allcomment)):    \n",
    "                    yelp_reviews.append(allcomment[y].text)      \n",
    "#       has less than 60 reviews\n",
    "        elif num_pages == 2:\n",
    "            if start == (0 or 20):\n",
    "                for x in range(1, 21):\n",
    "                    yelp_stars.append(somediv[x]['aria-label'].strip('star rating'))\n",
    "                for y in range(0,len(allcomment)):    \n",
    "                    yelp_reviews.append(allcomment[y].text)    \n",
    "            else:\n",
    "                for x in range(1, leftover + 1):\n",
    "                    yelp_stars.append(somediv[x]['aria-label'].strip('star rating'))\n",
    "                for y in range(0,len(allcomment)):    \n",
    "                    yelp_reviews.append(allcomment[y].text)   \n",
    "#       has less than 80 reviews\n",
    "        elif num_pages == 3: \n",
    "            if start == (0 or 20 or 40):\n",
    "                for x in range(1, 21):\n",
    "                    yelp_stars.append(somediv[x]['aria-label'].strip('star rating'))\n",
    "                for y in range(0,len(allcomment)):    \n",
    "                    yelp_reviews.append(allcomment[y].text)   \n",
    "            else:\n",
    "                for x in range(1, leftover + 1):\n",
    "                    yelp_stars.append(somediv[x]['aria-label'].strip('star rating'))\n",
    "                for y in range(0,len(allcomment)):    \n",
    "                    yelp_reviews.append(allcomment[y].text)   \n",
    "#       has less than 100 reviews\n",
    "        elif num_pages == 4:\n",
    "            if start == (0 or 20 or 40 or 60):\n",
    "                for x in range(1, 21):\n",
    "                    yelp_stars.append(somediv[x]['aria-label'].strip('star rating'))\n",
    "                for y in range(0,len(allcomment)):    \n",
    "                    yelp_reviews.append(allcomment[y].text)   \n",
    "            else:\n",
    "                for x in range(1, leftover + 1):\n",
    "                    yelp_stars.append(somediv[x]['aria-label'].strip('star rating'))\n",
    "                for y in range(0,len(allcomment)):    \n",
    "                    yelp_reviews.append(allcomment[y].text)   \n",
    "\n",
    "    else:\n",
    "        for x in range(1, 21):\n",
    "            yelp_stars.append(somediv[x]['aria-label'].strip('star rating'))\n",
    "        for y in range(0,len(allcomment)):    \n",
    "            yelp_reviews.append(allcomment[y].text)   \n",
    "    start += 20\n",
    "\n",
    "print(yelp_stars)\n"
   ]
  },
  {
   "cell_type": "code",
   "execution_count": 5,
   "metadata": {},
   "outputs": [
    {
     "name": "stdout",
     "output_type": "stream",
     "text": [
      "[\"Shhhh Ruby Tuesday's is one of the best kept secrets of the Limerick area.Located in the back of the Limerick Outlets we find that unless it is prime holiday shopping season there is typically little to no wait for seating.The menu has a nice variety of options. The hickory bourbon options are some of my favorite. The salad bar is always well stocked too. Nice selection of deserts, our favorite is the Chocolate Fall Cake - perfect for sharing.Seating is available at the bar, booths or tables, when weather permits outdoor seating is also available.Before you go sign up for Ruby Connected at rubytuesday.com they send great coupons.Bathrooms are very nice and well maintained.Don't count on the wifi though, the signal is very poor.\", \"Good experience tonight. We got an email blast that they were featuring 8$ dinners for three specific entrees. 6 ounce sirloin, blackened tilapia, & Chicken Bella were the choices, we both ordered the sirloin medium and it came with two sides. I got mashed potatoes and a side garden salad. Husband had grilled zucchini & mashed potatoes. We ordered a happy hour spinach dip for 4$ on the special Happy Hour menu. \\xa0I figured they would short portion it, but the serving was quite generous. Husband tried the 3$ margarita and upgraded to a large mai tai and he reports both drinks were excellent. That's high praise from a bartender with 35 years experience. Happy Hour runs from 4-6 and we sat at the bar- I'm not sure if you could get those drink prices at the table. The food was very enjoyable. My only suggestion would be not to serve a small sirloin on a mammoth plate, because it makes it look even smaller. I felt the mashed potatoes could have been served hotter, but they were tasty. Silverware was sparkling clean.\", 'Poor quality of food. Overpriced at least for that price. It was not worth at All. But it was only option in that mall. Waste of money. I would rather go to food court', 'I have not been here in a while and my first time back i was impressed with the hickory bourbon salmon it was really good the raspberry lemonade was good also i stopped coming here because it made me sick years ago and i said let me try this and it was great this is a definite go 10********** #definitego', \"We were seated immediately and we had a very nice waiter, I believe his name was Richard. Always checking on us to make sure we had everything we needed. The Smokehouse Burger was really good, I couldn't even finish it all. Very delicious!\", 'My family stopped at Ruby Tuesday at the Philadelphia Premium outlets and we were starved. We were quickly seated and our server was Bryhee K (1179) and his service was outstanding. He was funny and charming, and he made some excellent suggestions for our meals - all of which were enjoyed heartily. I wanted to specifically mention Bryhee as we really enjoyed his service and personality. And our meals were great as usual.', \"Okay so serve came over, half shirt buttoned down, my husband and I offended but whatever, table next to us had he hair stuck in it, then we got our food..... husband's burger was all wrong and my spicy chicken sandwich horrible! Definitely will not be back again I definitely am sorry for recommending this place to my husband. The fries were cold and server almost rushed us out. We literally were there start to finish only 25 minutes! Not a good experience!\", 'Mr. king at this location was a fabulous waiter. He was so nice, attentive and made for a great experience! Thank you From the annoying party of 7 girls', \"Best food and service we've had in a very long time! Bryhee King was an amazing waiter! He made me and my girlfriend's experience very enjoyable. The food was outstanding! We will definitely be returning!\", \"A nice quick dinner spot, we do go here often. We are usually drawn in by the deals that Rubys' offer. They give you a nice meal for the money. The wait staff definitely give you 5 star service.\", 'I was at the Philadelphia Premium Outlet on 12 14 19 to do some shopping. \\xa0I was hungry and decided to stop in to Ruby Tuesday for a bite to eat. We were immediately seated but waited for about 15 minutes before a server was sent over. Once we met Bryheem King everything was smooth sailing. Very polite and personable. He checked in on us often \\xa0and made sure our experience was quite pleasant in the end. Ruby Tuesday could use more employees like Bryheem. They would probably do much more business. \\xa0What a wonderful person with an extremely pleasant attitude.', 'The Philadelphia Premium Outlets was the first stop on my family\\'s \"Annual Black Saturday Outlets Busride.\" With only 1 hour left before the coach bus departure to our next stop, 8 of us decided to get together to recharge with lunch at the Ruby Tuesday. Because of the time constraint, we made it clear to the hostess and manger that we needed a server who had the \"withitness\" to meet our needs and get us out in exactly 1 hour. With that in mind, they assigned Bryheem K. to our table. Bryheem was savvy enough to get our food and drink orders both in and out within a reasonable time, even upgraded some drink orders for being a few minutes later than others, and did it all with the most captivating smile, charm, and sense of humor that gave us the boost we needed to go for another round of shopping at our next stop. Food was great (had a juicy steak and potatoes, with the endless salad bar, yes...they have a salad bar) and service was outstanding. Thanks....Will be back next year!', 'Hopefully I visited on a bad day for them and it is not the normal operation standard.It started just before being seated, walking through the restaurant to our seat we passed by table after table that were not cleared. Not a good sign of things to come.We were seated and awaited the arrival of our waiter. We waited and waited trying to be patient. After over 8 minutes, we asked a passing by hostess if they could see when we should expect someone to arrive. Not missing a step in wherever she was going, she blurted out, I will find them. No, I am sorry or anything just continued to walk past us. A few more minutes go by and she finally shows up.We place our entire order since we had ample time to decide what we wanted to eat while waiting for someone to arrive. We go to the salad bar and return to our table, the drinks have not arrived. Halfway into eating the salad, the drinks finally arrive.Still looking around at the dirty empty tables surrounding us, unsure of what we should expect with the food. We have visited other Ruby Tuesday\\'s and never have experienced something like this.Food arrives, nothing off based on other experiences from other Ruby Tuesday\\'s. Drinks are empty for quite a while now, no refill in sight for way too long.Table seated near us complains about the same experience of wondering where their waiter is so is was just not us.Another patron to be seated next to us, requests to be seated in a clean booth. We watch as they are walked to two more booths until they accept something that was up to par. Looked at the \"clean\" \\xa0booth next to us and initial glance would look right but it had food particles and the seats had the same situation.We ordered dessert, probably should not have as the dinner drug on for too long. About ten minutes to return with that order.Slow bad service combined with sloppy cleanliness at a restaurant is nothing that is desirable.Something needs to be changed at this location starting with the managers.', 'Service is nonexistent. We visited around 3pm when there were very few other people in the restaurant, but it took several minutes for a server to come over. Our first water was the only one we ever got. I ordered the larger chicken tender platter which only had four pieces of chicken. I got a side of mashed potatoes which only took me four normal-sized bites to finish. After bringing the food, our server only came back to deliver the check. She never came to ask how the food was or see if we needed more water, nor did she even walk by so we could ask for more. Instead, we could hear her around the corner complaining to her coworker about how little her tips were over the previous weekend. Shocker.', \"Located in the Philadelphia Premium Outlets right off off 422!They have a nice little salad bar. They don't really have much stroller parking for kids inside. They do offer a salad bar, and for the kid that's great! \\xa0 Food was great and the staff was on point for service! There was a little bit of playing around in front then necessary, no problem with having fun with co-workers, but would be better behind closed doors :)\", 'This location has provided me a consistently great dining experience thanks to a wonderful manager Luis, who, once again, exhibited excellent troubleshooting skills when I needed.The food is great, the staff is quick friendly accommodating and efficient, and management has this location so well organized at very busy hours. I recommend at every opportunity I have.', \"2 stars only because they offer a 24 oz beer to drown your sorrow while you waste an hour here. I've never had a good rubys experience but it was either this or crappy food court food, this won since they serve beer. Hostess was very nice, sat us immediately, no problems thus far. Waitress was quick to greet us but that was about it. Food took 45 minutes, for 2 sandwiches, there were a dozen tables open when we ordered. They were luke warm, the avocado on the chicken avocado sandwich was sparse and the chicken over cooked and dry.the avocado on the avocado turkey burger was equally sparse. Requested wheat buns on both and even though it was OUR waitress that brought our late lunch, there were no wheat buns, even if the kitchen makes a mistake, you're the last line of defense from a mistake! As we were nearly done with our beers she offered water, but had to be reminded once we were nearly done for the water she suggested, yikes... No table visits from the manager on duty, when a ticket in a quick serve takes that long the manager needs to take responsibility. just a crappy experience. Wouldn't come here to eat again and won't go to another rubys as poor food and service is a staple at this chain. Next time we come to this mall for a day of shopping I'll be sure to pack a lunch.\", 'Ruby Tuesday gets a 4 star review for food, which is always good, but a 5 star review for above-and-beyond service!It turns out my party were \"those\" people the other night when we arrived a little before 7pm for dinner and a meeting. We hung around until 8:30 and were all a little surprised that we were the only ones in the place by that point. It wasn\\'t until we walked out the front door that we saw the sign describing their \"winter hours\" which closed the restaurant at 7pm!Honestly, no one said a thing to us and they just let us enjoy our meal as if nothing was amiss. Our server, Matthew, was extremely friendly and kind and engaged us in all kinds of chit chat. I hope they can forgive us for being so clueless, but kudos on the customer service Ruby Tuesday! And a fantastic job, Matthew!', 'Went here last night for dinner. Haven\\'t been at a Ruby\\'s for over a year, so we thought we would give it a chance. We sat at the bar - the bartender was awesome - She was always on top of getting us refills, etc. The place was clean and staff were friendly.The only issue as to not giving 5 stars was just a preference of mine - I remember back at Ruby\\'s they offered iceberg lettuce in addition to the other greens like romaine. The salad bar even had a section labelled \"iceberg lettuce\" - but they filled it all with romaine. Other than that - it was awesome....', 'I have always had a good meal here, no complaints, and the servers have been great. I love the new menu, southern style options are a nice change. New salad bar additions are perfect. Drink specials always good, love the Sangrias.', \"The food overall was pretty good and so was the service. Only minor issue was the steak I ordered, it had a little too much chewy tendons. The steak was cooked just right which was an up side. The server was nice so the service was pretty good. My overall ópinion, 4 stars just for the bits of nit picking on my part.PS. Over the times I've used Yelp and read reviews and what affects my choices the most was the 5 star reviews or the 1 star reviews. All I want to say to those reviewers is that if you got something good to say or something to complain about, be sure to include photos to back up your claims. For all I know you could be some random person being paid to boost or slander business who deserves a proper rating. I'm going to add photo with every review I post from now on.\", \"Your typical Ruby Tuesday, I'd imagine. Service was just fine, pleasant waitress, and the place was clean. Food was good, I had a chicken sandwich with avacado that I'd recommend, and substituted the fries for some asparagus to pretend I was healthy, since they had that option available as a special. Would reccommend.\", 'Food was not that great I ordered the salmon with the rice and zucchini. The best part were the zucchini, the rice arrived cold and dry while the salmon was covered in a really sweet sauce. My husband had the NY stake which was cooked right but unfortunately 1/3 of the stake was cartilage and fat and so he just left it on the plate because it was unchewable. The only great part was my apple dessert which was amazing but my husbands dessert not so much (some type of chocolate cake half in a glass and half covered in whipped cream and ice cream) the ice cream was good but not everything alse. Service was average.', \"Food was exceptional waitress was friendly the meal was delicious and we cannot wait to go back didn't realize that there was a Ruby Tuesday this close to our home so will be back many times great appetizers great atmosphere highly recommend this location\", \"Had a friend in from Europe who wanted to go shopping, so we stopped here for lunch before walking around the Philadelphia Premium outlets. I went with the chicken sandwich and my friend with with a burger. I was surprised at how big the chicken sandwich was and the chicken was nice and juicy. Fries were delicious as well. My friend said his burger was really good as well and like my chicken sandwich, was a mouthful! Service was good throughout and we got refills without even asking. The place wasn't overly busy while we were there, but it was a weekday and a bit after 1pm. They also have a nice salad bar which I've had before, but not on this particular visit. In terms of sit-down restaurants at the outlet mall, this is pretty much your only choice.\", \"This Ruby Tuesdays is in the Philadelphia Premium Outlets, which, according to their website is in Limerick. \\xa0Yet, \\xa0the Yelp listing has this Ruby Tuesdays as being in Pottstown. \\xa0To further confuse the issue, if you buy anything at the stores here and charge it, your monthly statement will say you bought it in Pottstown. \\xa0Okay---rant over. \\xa0Now on with the review...We hadn't been to a Ruby Tuesdays in years. \\xa0In fact, the last time was when our daughter was in high school. \\xa0She used to like to eat at Ruby Tuesdays because she \\xa0liked ordering the salad bar and a baked potato. \\xa0Back then, \\xa0they had a decent salad bar.Since we were shopping here, our daughter said she wanted to eat dinner here. \\xa0We were shopping on a Saturday and the outlet was very busy. \\xa0I told her that we would have to eat an early dinner if we didn't want to be kept waiting for a table. \\xa0So...that's what we did.After we were seated, the server arrived promptly to take our drink orders. \\xa0Apparently, Ruby Tuesdays seems to constantly tinker with their menu. \\xa0So, it's a good thing that we hadn't been in years thus we didn't have to worry about a favorite menu item no longer being around. \\xa0Nothing on the menu was all that interesting. \\xa0I ordered the half rack of ribs which came with 2 sides. \\xa0For one of my sides, I chose spaghetti squash only to be told by our server that they were all out. \\xa0This disappointed our daughter because she was planning on having as her main course, spaghetti squash with tomato sauce. \\xa0The server volunteered that lately, more often than not, Ruby Tuesdays runs out of it. \\xa0Okay...time to tinker with the menu again...I guess...I don't remember what everybody else had---yeah, the food was that unexciting. \\xa0However, I must admit that the ribs I ordered were better than the ribs I had at Urban BBQ in Ashburn. \\xa0It's really sad when Ruby Tuesdays has better ribs than the local BBQ joint.Everyone else thought that their food was okay. \\xa0The kids liked their kids meals. \\xa0Service was excellent---no complaints there. \\xa0The kitchen was on the slow side and I give credit to our server for giving us a heads up on this after we ordered. \\xa0While my husband and I don't regret going, we're in no rush to return either. \\xa0Still, we're prepared. \\xa0Next time we visit our daughter, she might well want to go back here again.\", \"Although The host that sat me was very nice and attentive, the rest of the staff wasn't. I sat at the bar, and waited to be greeted, (which took like 30 minuets by the way), soon I was and they didn't take my Colorado ID because I guess they don't have out-of-towners come in all the time. So I couldn't get drinks and soon realized ordering food here is like a 60 minute wait on average, (keep in mind, the place was so-so busy but not going crazy busy (all seats FILLED). Just an awful experience, I would give this place zero stars if I had the option to, but the hostess was good and yelp won't let me. Oh and I have experience working in a bar too, where tourist come and go, so I've seen most of the ID's here in the US.\", \"I really wish this Ruby Tuesday was not inside an outlet mall. The reason for that is outlet mall security locks all the side entrances when the outlet mall closes, not when Ruby Tuesday closes. If you stay late at Ruby Tuesday and parked your car near one of those side entrances, you'll have quite a bit of a walk to get to the main entrance and then around the outside of the outlet mall back to your car. Either that or you'd have to look for one of the poorly-marked service corridors that the general public is not supposed to use. Either way, it's an inconvenience and they should've placed Ruby Tuesday on the outside of the mall.Aside from that, I actually didn't have any serious issues with the service this time. However, the main focus of a Ruby Tuesday meal, the salad bar, wasn't well stocked and was out of a few items at dinner time. Still, I think they should get an average rating.\", \"It's a shame the place had great food and I thought the service was good until I got home. I had payed with a credit card and tipped the waitress over 20%, just to find out she added a tip herself.... fortunately management was quick to fix the issue for me and it was resolved, but i will never return here. I work hard for my money and I don't appriciate being cheated out of it.\", \"Very slow service, stood on the door for 5 minutes before someone showed up at the front desk. Waitress was nice though overwhelmed but the kicker is how dirty everything was; table, seats, etc. everything seemed grimey (even the menus were sticky yuck!!) But the WORST were all the damned Fruit Flies!!!!!!! We were seated in the back and they were all over the wall!!! Food was very average mass produced production line quality mediocrity. We won't ever eat here again.\", 'Boo. Took forever to get seated in the seat that was open when we walked in. Waiter forgot to give us drinks until we were half way through our salad. The salad bar had dirty plates.Sub par. Not impressed.', 'Terrible service... We sat at the bar the bartender got our drinks wrong and was very slow with service.... We were able to see the kitchen and we watch what looked to be the manager helping cook the food with her long hair down and swinging all around the food and after we said something she continued to stay in the kitchen with the hair down... Very gross and the food was not even good! If I could get negative stars I would! Will never go there again!', 'If you like grease and poor service this is the place for you. I got the \"prime\" beef cheeseburger. I figured why not spend the extra $1.50 for what I believed would be a nicer burger. I think the extra $1.50 was spent on grease. My wife had the baked ravioli. When it came out it looked as if they just had put a thick layer of cheese above the ravioli. Everything was just bland, and not worth the price. Honestly just go to subway next door and save yourself money for better tasting food.', 'Overall, pretty good. Waited a little bit to be seated because the hostess was no where to be found. Once we ordered our food it was average. It came out hot and well done. I think the chips I received during our appetizer were a bit cold and somewhat stale which was worse part of my experience. The service was decent. Took a little long to get our check and refills, but nothing too bad or annoying. Just and average place with an out of place salad bar. My only question now is what is the theme.', 'Had a bad dinner to close the night, however they did give us an adequate compensation after we pushed for the proper service in return for our failed dinner.', 'Lunch was good until my wife bit into wax paper bewteen her burger and cheese. Unacceptable even in a low end restaurant.', \"Hello,I visited this Ruby Tuesdays in Pottstown a few weeks ago and had an awful experience. I've been to the Ruby Tuesdays's in Ardmore and KOP and I recommend no one to visit the Pottstown location. It has awful service. I submitted 2 messages online to this office through the Ruby Tuesdays website asking to speak to a manager to no avail. I guess that shows how they truly feel about their customers. The waitress we had that severed us was very rude, when we simply asked her for a gluten free menu she gave us a very difficult time. She said, you were supposed to ask the hostess and not me. I didn't understand how she couldn't of said, hold on let me get you the gluten free menu but next time, please ask the hostess. She made the person I was with feel very ashamed about asking for that sort of menu. She also failed to bring out the rest of my meal until I questioned her about it. She gave us our food and rushed away and didn't allow us the opportunity to ask about our meal. She then returned about 10 minutes later and thats when I inquired about the rest of my meal and she said its in the kitchen. So, what I didn't understand is how she couldn't of said when she delivered the first part of the meal, hold on one second its in the kitchen and will be out shortly, she had to wait until I asked. At the end, she gave us the bill and about 2 minutes later she came back and took the bill off our table, and I said to her I didn't fill it out yet. I felt she was trying to rush us out. We've been going to Ruby Tuesdays all my life, and because of this awful experience and not having the manager speak to me about my experience, we won't go to another Ruby Tuesdays again.\", \"I will never eat here again. They brag about their salad bar in commercials...not impressed. I could have made a better on at home. I had the salmon with is one of my favorite foods...it was bland. It's fish and it's a fishy fish...how does that equal bland. My girlfriend had chicken breast with marinade that tasted sour...as if it had spoil.On a plus side, the manager was very nice and offered another selection. We declined.\", \"Wife was eating chicken shrimp with some type of noodles had hair in her food place wasn't pack for reason ...all they did is wave her money on her plate whippie fuckin do ... Don't waste your money better off eating subways next door\", 'We love this Ruby Tuesdays. The food is always good and we really love the salad bar. \\xa0The restaurant is always clean and the staff is always very friendly.', 'Service is too slow..maybe avoid on sundays like the other reviewer said..our food arrived warm or cold...the menu in general is great but avoid at all costs on sunday', \"The best ribs in our area, within 15 miles, period!! I am a huge fan of good ribs, and I've went to all the local big and small places. Nothing comes close to Ruby Tuesday's. If you love ribs that are finger licking good, look no further.I give it four stars, because I haven't tried anything else on menu!! But the staff is great also!!\", \"Ok. \\xa0Tonight was great. \\xa0If you get Phil or Christina for a bartender you're in for some of the best service in the area. \\xa0Don't do a table, the two of you need to sit at the bar and enjoy.\", \"I've never been a big fan- in my mind Ruby Tuesday's is a salad bar. \\xa0However, came here twice in one week due to my Mother's preference. \\xa0WOW! \\xa0They've really updated their concept since the early 90's! \\xa0We had great service both times, and you MUST try the spaghetti squash with marinara. \\xa0It was AMAZINGLY good! \\xa0I'm definitely going to have to put Ruby Tuesdays on my list of places to go at home. \\xa0Hope the service is as good at my local RT!\", \"Salad bar looked fresh and tasted quite good. But that was the highlight... \\xa0Spicey fish taco was tasteless, worst taco I've ever had and I had many... \\xa0My kids burger was also tasteless and burnt... \\xa0To make it worse, they showed a cheerleaders competition on TV while Brazil and Mexico were playing in the World Cup.\", \"food was ok...service was really slow- shouldn't take 2 hrs for an early dinner with 2 kids and 4 adults. Waiter apologized because he was working tables on opposite sides of the dining room, so I think we were forgotten. \\xa0Food took over 45 minutes. \\xa0Perhaps that is what should be expected? \\xa0 We had dinner here 3 nights before and the service was great, but on this Sunday it was not.\", 'Service is always great here. I only had one problem and it was fixed right away. My dad ordered a full rack of ribs and only a half order came out and they brought him out fresh sides with the other half rack of ribs.', 'My husband and I decided to go for a quick bite on Saturday night and were extremely disappointed. We had tiny flies flying around our table that my husband killed. My entree was the Chicken Fresco. The portion size looked like it was for a child. The chicken was tender though. My husband ordered the Louisiana Fried Shrimp and he was happy with his entree. The salad bar was something to be desired. The dressings were empty, the premade salads \\xa0were empty. I watched and no one came out to fill and freshen the salad bar. We both decided that we will not go here again.']\n"
     ]
    }
   ],
   "source": [
    "print(yelp_reviews)"
   ]
  },
  {
   "cell_type": "code",
   "execution_count": null,
   "metadata": {},
   "outputs": [],
   "source": [
    "# Disregard the rating\n",
    "# Print the rating\n",
    "yelphtml = browser.html\n",
    "yelpsoup = BeautifulSoup(yelphtml, 'html.parser')\n",
    "\n",
    "firstDiv = \"div.lemon--div__373c0__1mboc.arrange-unit__373c0__o3tjT\"\n",
    "innerSpan = \"span.lemon--span__373c0__3997G.display--inline__373c0__3JqBP\"\n",
    "innerDiv = \"div.lemon--div__373c0__1mboc.i-stars__373c0__1T6rz\"\n",
    "somediv = yelpsoup.select(f'{firstDiv} > {innerSpan} > {innerDiv}')\n",
    "\n",
    "group_rating = []\n",
    "# for div in somediv:\n",
    "#     print(div['aria-label'])\n",
    "#     rating_list.append(div['aria-label'])\n",
    "# rating_list\n",
    "\n",
    "for x in range(1, leftover + 1):\n",
    "#     print(somediv[x]['aria-label'])\n",
    "    group_rating.append(somediv[x]['aria-label'].strip('star rating'))\n",
    "print(group_rating)"
   ]
  },
  {
   "cell_type": "code",
   "execution_count": null,
   "metadata": {},
   "outputs": [],
   "source": [
    "newstrip=[]\n",
    "for x in yelp_strip:\n",
    "    newstrip.append(x.strip('star rating'))\n",
    "print(newstrip)"
   ]
  },
  {
   "cell_type": "code",
   "execution_count": null,
   "metadata": {},
   "outputs": [],
   "source": [
    "print(num_pages)"
   ]
  },
  {
   "cell_type": "code",
   "execution_count": null,
   "metadata": {},
   "outputs": [],
   "source": [
    "start = 0\n",
    "num_pages = 5\n",
    "\n",
    "# get total reviews\n",
    "total_reviews = int(yelpsoup.find('p', class_='lemon--p__373c0__3Qnnj text__373c0__2Kxyz text-color--mid__373c0__jCeOG text-align--left__373c0__2XGa- text-size--large__373c0__3t60B').text.strip('reviews'))\n",
    "\n",
    "total_pages = int(total_reviews)/20\n",
    "\n",
    "if total_reviews < 100:\n",
    "    end = round(int(total_reviews)/20)*20\n",
    "else: \n",
    "    end = 20* num_pages\n",
    "print(end)\n",
    "print(total_reviews)\n",
    "print(lessthantwenty)"
   ]
  },
  {
   "cell_type": "code",
   "execution_count": null,
   "metadata": {},
   "outputs": [],
   "source": []
  }
 ],
 "metadata": {
  "kernelspec": {
   "display_name": "Python 3.8.3 64-bit ('PythonData': conda)",
   "language": "python",
   "name": "python38364bitpythondataconda0414c2187cea4eaeb1607502e7a42879"
  },
  "language_info": {
   "codemirror_mode": {
    "name": "ipython",
    "version": 3
   },
   "file_extension": ".py",
   "mimetype": "text/x-python",
   "name": "python",
   "nbconvert_exporter": "python",
   "pygments_lexer": "ipython3",
   "version": "3.8.3"
  }
 },
 "nbformat": 4,
 "nbformat_minor": 4
}
